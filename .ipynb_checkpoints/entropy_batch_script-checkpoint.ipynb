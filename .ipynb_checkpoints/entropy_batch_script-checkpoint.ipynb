{
 "cells": [
  {
   "cell_type": "markdown",
   "metadata": {},
   "source": [
    "# Sparse Alignment columns"
   ]
  },
  {
   "cell_type": "code",
   "execution_count": 15,
   "metadata": {
    "collapsed": true
   },
   "outputs": [],
   "source": [
    "class Contig:\n",
    "    def __init__(self, name, seq):\n",
    "        self.name = name\n",
    "        self.seq = seq\n",
    "        \n",
    "    def __repr__(self):\n",
    "        return '< \"%s\" %i nucleotides>' % (self.name, len(self.seq))\n",
    "\n",
    "def read_contigs(input_file_path):\n",
    "    contigs = []\n",
    "    current_name = \"\"\n",
    "    seq_collection = []\n",
    "\n",
    "    # Pre-read generates an array of contigs with labels and sequences\n",
    "    with open(input_file_path, 'r') as streamFASTAFile:\n",
    "        for read in streamFASTAFile.read().splitlines():\n",
    "            if read == \"\":\n",
    "                continue\n",
    "            if read[0] == \">\":\n",
    "                # If we have sequence gathered and we run into a second (or more) block\n",
    "                if len(seq_collection) > 0:\n",
    "                    sequence = \"\".join(seq_collection)\n",
    "                    seq_collection = []  # clear\n",
    "                    contigs.append(Contig(current_name, sequence))\n",
    "                current_name = read[1:]  # remove >\n",
    "            else:\n",
    "                # collects the sequence to be stored in the contig, constant time performance don't concat strings!\n",
    "                seq_collection.append(read.upper())\n",
    "\n",
    "    # add the last contig to the list\n",
    "    sequence = \"\".join(seq_collection)\n",
    "    contigs.append(Contig(current_name, sequence))\n",
    "    return contigs\n"
   ]
  },
  {
   "cell_type": "code",
   "execution_count": 47,
   "metadata": {
    "collapsed": false
   },
   "outputs": [
    {
     "name": "stdout",
     "output_type": "stream",
     "text": [
      "CCCCCCCCCTTCCCCACCCAACCCCCCCC 210\n",
      "GGGGGGGGGGGGGGGGGGGGGAGGGGGGG 211\n",
      "CCCCCCCCCCCGCCCCCCCCCCCCCCCCC 212\n",
      "AAATAAAAAAAAAAAAAAAAAAAAAAGGA 216\n",
      "GGGGGGGGGGGAGGGGTTGGGGTGGGGGG 223\n",
      "GGGGGAGGGGGGGGGGGGGGGGGGGGGGG 226\n",
      "TTTTTTTTTTTAAAAAAATTTTTTTTTTT 229\n",
      "TTTTTTTTTTTTTTTTTTT-TTTTTTTTT 232\n",
      "TTTTTTTTTTTTTTTTTTT-TTTTTTTTT 233\n",
      "CCCCCCCCCCCCCCCCCCC-CCCCCCCCC 234\n",
      "TTTTTTTTTTTTTTTTTTT-TTTTTTTTT 235\n",
      "AAAAAAAAAAAAAAAAAAA-AAAAAAAAA 236\n",
      "GGGGGGGGGGGGGGGGGGC-GGGGGGGGG 237\n",
      "TTTTTTTTTTTTTTTTTTT-TTTTTTTTT 238\n",
      "AAAAAAAAAAAAAAAAAAA-AAAAAAAAA 239\n",
      "CCCCCCCCCCCCCCCCCCC-CCCCCCCCC 240\n",
      "CCCCCCCCCCCCCCCACCC-CCCCCCCCC 241\n",
      "AAAAAAAAAAAAAAAAAAA-AAAAAAAAA 242\n",
      "GGGGGGGGGGGGGGGGGGG-GGGGGGGGG 243\n",
      "TTTTTTTTTTTTTTTTTTT-TTTTTTTTT 244\n",
      "AAAAAAAAAAAAAAAAAAA-AAAAAAAAA 245\n",
      "GGGGGGGGGGGGGGGGGGG-GGGGGGGGG 246\n",
      "TTTTTTTTTTTTCTTTTTT-TTTCTTTTT 247\n",
      "GGGGGGGGGGGGGGGGGGG-AGGGGGGGG 248\n",
      "TTTTTTTTTTTTTTTTTTT-TTTTTTTTT 249\n",
      "GGGGGGGGGGGGGGGGGGG-GGGGGGGGG 250\n",
      "GGGGGGGGGGGGGGGGGGG-GGGGGGGGG 251\n",
      "AAAAAAAAAAAAAAAAAAA-AAAAAAAAA 252\n",
      "AAAGAAAAAAAAAAAAAAAAAAAAAAAAA 280\n",
      "CCCCCCCCCCCCCCCCCCTTTACCCCCCC 283\n",
      "TTTTTTTTTTTTTCTTTTAAATTTTTTTT 293\n",
      "AAAAAAAAAAAAAAGGGGAAAAAAAAAAA 311\n",
      "AAAAAAAAAAAAAAAAAAAAAGAAAAAAA 326\n",
      "GGGGGGGGGGGGTTGGGGGGGGGGGGGGG 328\n",
      "TTTTTTTTTATTTTTTTTTTTTTTTTTTT 329\n",
      "AAAAAAAAAAAAAAAAAAAAAAAGAAAAA 342\n",
      "CTTCCCCCCCCCCCCCCCTTTTTTTTTTT 349\n",
      "GGGGGGGGGGGGGGGGGGTTTGGGGGGGG 350\n",
      "GGGGGGGGGGGGGGGGGGGGGGGGGAGGG 372\n",
      "GGGGGGGGGGGGGGGGGGAAAAAAAAAAA 373\n",
      "CTTTTTTTTTTTTTTTTTTTTTTTTTTTT 397\n",
      "CTTCCCCCCCCCCCCCCCCCCCCCCCCCC 442\n",
      "CTTTTTTTTTTTTTTTTTTTTTTTTTTTT 445\n",
      "A---------------------------- 452\n",
      "A---------------------------- 453\n",
      "G---------------------------- 454\n",
      "AAAAAAAAAAAAAAAAAAAGAAAAAAAAA 459\n",
      "ACCCCCCCCCCCCCCCCCCCCCCCCCCCC 464\n",
      "CTTCCCCTCCCCCCCCCCCCCCCCCCCCC 465\n",
      "AAAAAAAAAAAAAAAAAAAAAGAAAAAAA 467\n",
      "TTTTCTTTTTTTTTTTTTTTTTTTTTTTT 475\n",
      "CCCACCCCCCCCCCCCCCCCCCCCCCCCC 485\n",
      "AAAAAAAAAAAAAAAAAAAAAAAGGGAAA 487\n",
      "TCCTTTTTTTTTTTTTTTTTTTTTTTTTT 501\n",
      "TTTTTTCTTTTCTTTTTTTTTTTTTTTTT 514\n",
      "GGGAGGGGGGGGGGGGGGGGGGGGGGGGG 517\n",
      "TCCTTTTTTTTTTTTTTTTTTTTTTTTTT 520\n",
      "TTTCTTTTTTTTTTTTTTTTTGTTTTTTT 523\n",
      "GGTGGGGGGGGGGGGGGGGGGGGGGGGGG 524\n",
      "TTTCTTTTTTTTTTTTTTTTTTTTTTTTT 526\n",
      "TTTTTTTTTTTTTTTTTTTTTTCTTTCCC 537\n",
      "GGGGAGGGGGGGGGGGGGGGGGGGGGGGG 539\n",
      "GTGGGGGGGGGGGGGGGGGGGGGGGGGGG 541\n",
      "GGGGGGGGGGGGGGGGGGAAAGGGGGGGG 545\n",
      "TTTTTTTTTTTTTTCCCCTTTTTTTTTTT 549\n",
      "GGGGGGGGGGGGGGGGGGGGGGGTTGGGG 550\n",
      "GGGGGAGGGGGGGGGGGGGGGGGGGGGGG 552\n",
      "AAGAAAAAAAAAAAAAAAAAAAAAAAAAA 557\n",
      "GGGGGGGAGGGGGGGGGGGGGGGGGGGGG 560\n",
      "TTTTCCCCCCCTTTTTTTTTTCTTTTTTT 577\n",
      "TTTTTTTCTTCTTTTTTTTTTTTTTTTTT 583\n",
      "GGGTGGGGGGGGGGGGGGGGGGGGGGGGG 598\n",
      "AGGAAAAAAAAAAAAAAAGGGGGGGGGGG 599\n",
      "TAAAGAAAAAAAAAAAAAAAAAAACAAAA 602\n",
      "GAAGGGGGGGGGGGGGGGAAAAAAAAAAA 610\n",
      "GGGGGGGGGGGGGGGGGGGGGGGGGGGGA 619\n",
      "AAAAAAAAAAAATAAAAAAAAAAAAAAAA 644\n",
      "AGGAAAAAAAAAAAAAAAGGGGGGGGGGG 646\n",
      "GGGTGGGGGGGGGGGGGGGGGGGGCCGGG 679\n",
      "TGGGGGGGGGGGGGGGGGGGGGGGGGGGG 681\n",
      "TTTTTTTTTTTTTTGTTTTTTTTTTTTTT 686\n",
      "CCCCCCCCCCCCCCCCCCTCCCCCCCCCC 692\n",
      "TTTTATTTTTTTTTTTTTTTTTTTTTTTT 706\n",
      "TTTTTTTTTTTTTTTTTTTTTTTTTTCCC 710\n",
      "GGGGGGGGGGTGGGGGGGGGGGGGGGGGG 719\n",
      "TTTCTTTTTTTTTTTTTTTTTTTTTTTTT 727\n",
      "GGAGGGGGGGGGGGGGGGGGGGGGGGGGG 731\n",
      "GAAGGGGGGGGGGGGGGGGGGGGGGGGGG 733\n",
      "CCCCTTTTTTTTTTTTTTTCCTCCCCCCC 742\n",
      "GAAGGGGGGGGGGGGGGGGGGGGGGGGGG 757\n",
      "GGGGGGGGGGGGAGGGGGGGGGGGGGGGG 764\n",
      "CCCACCCCCCCCCCCCCCCCCCCCCCCCC 775\n",
      "GGGGGGGGGGGGGGGGGGGGGGAAAAAAA 793\n",
      "TTTCCCTTTTTTCCCCCCTTTTTTTTTTT 808\n",
      "GGGGGGGGGGGAGGGGGGGGGGGGGGGGG 832\n",
      "GGGGGGGGGGGGGGGGGGGGGGAAAAAAA 838\n",
      "GGGGGGGGGGGGGTGGGGGGGGGGGGGGG 848\n",
      "-------------G--------------- 849\n",
      "-------------C--------------- 850\n",
      "AAAAAAAAAAAAAAAAAAAAAATAAAAAA 866\n",
      "CTTTTTTTTTTTTTTTTTTTTTTTTTTTT 869\n",
      "AAAAAAAAAAAAAAAGAAAAAAAAAAAAA 870\n",
      "CCCCCCCCCCCCCCCCCCTCCCCCCCCCC 884\n",
      "AAAAGAAAAAAAAAAAAAGGAAAAAAAAA 885\n",
      "GGGGGGGGGGGAGGGGGGGGGGGGGGGGG 888\n",
      "TAATTTTTTTTTTTTTTTTTTTTTTTTTT 919\n",
      "CCCCCCCCCCCCTCCCCCCCCCCCCCCCC 921\n",
      "GGGGGGGGGGGAAAAAAAGGGGGGGGGGG 933\n",
      "GGGAGGGGGGGGAGGGGGGGGGGGGGGGG 939\n",
      "CCCTCTCCCCCCCCCCCCCCCCCCCCCCC 944\n",
      "GGGGGGGGGGGGGAGGGGGGGGGGGGGGG 973\n",
      "CCCCCCCCCCCCCCCCCCCCCCCCCCCTT 981\n",
      "AAAAAAAAAAAAAAAAAAAAAAAACAAAA 982\n",
      "AAAAAAAAAAAAAAAAGGAAAAAAAAAAA 993\n",
      "TTTTTTTTTTTTTTTTTTTTTTCTTTTTT 1008\n",
      "TTTTTTTTTTTTTTTTTTTTTTCCCCCCC 1025\n",
      "TCTCCCCCCCCCCCCCCCCCCCCCCCCCC 1044\n",
      "TTTTTTATATTTTTTTTTTTTTTTTTTTT 1057\n",
      "AGGGGGGGGGGGGGGGGGGGGGGGGGGGG 1069\n",
      "CGGCTCCCCCCCCCCCCCCCCCCCCCCCC 1071\n",
      "GGGGGGGGGGGGGGGGAAGGGGGGGGGGG 1072\n",
      "CCCCCCCCCCCCCCCCCCCCCCCCCCGCC 1077\n",
      "TTCTTTTTTTTTTTTTTTTTTTTTTTTTT 1081\n",
      "TAAATTTTTTTTTTTTTTAAAAAAAAAAA 1104\n",
      "GGGGGGGGGGGGGGGGGGGGGGTTTTTTT 1125\n",
      "GGGAGGAGAGGGGGGGGGGGGGGGGGGGG 1137\n",
      "TTTTTTTTTTTTCTTTTTTTTTTTTTTTT 1146\n",
      "ATAAAAAAAAAAAAAAAAAAAAAAAAAAA 1149\n",
      "AAAAAAAAAAAAAAAAAAAAAAAAAAGGA 1152\n",
      "GAGGGGGGGGGGGGGGGGGGGGGGGGGGG 1171\n",
      "TAATTTTTTTTTTTTTTTTTTTTTTTTTT 1181\n",
      "AAAAAAAAATAAAAAAAAAAAAAAAAAAA 1183\n",
      "AAAAAAAAAAAAAAAAAAAAAAGAAAGGG 1197\n",
      "TTTTTCTTTTTTTTTTTTTTTTTTTTTTT 1203\n",
      "AAAAAAAAAAAAAAAAAAAAAGGGGGGGG 1212\n",
      "ATTAAAAAAAAAAAAAAAAAAAAAAAAAA 1235\n",
      "TTTCTTTTTTTTTTTTTTTTTTTTTTTTT 1242\n",
      "GGGGGGGGGGGGGGGGGGTTTGGGGGGGG 1257\n",
      "TCTTTTTTTTTTTTTTTTTTTTTTTTTTT 1272\n",
      "GGGGGGGGGGAGGGGGGGGGGGGGGGGGG 1281\n",
      "GGGGGGGTGGGGGGGGGGGGGGGGGGGGG 1284\n",
      "AGGGGGGGGGGGGGGGGGGGGGGGGGGGG 1304\n",
      "TCCCCCCCCCCCCCCCCCCCCCCCCCCCC 1305\n",
      "AAAAAAAAAAAAAAAAAAAAAGAAAAAAA 1306\n",
      "TGGGGGGGGGGGGGGGGGGGGGGGGGGGG 1309\n",
      "TTTTTTTTTCTTTTTTTTTTTTTTTTTTG 1310\n",
      "CTTCCCTTCCTCTTTTTTTCCCCCCCCCC 1311\n",
      "GGGGGAGGGGCGGGGGGGGGGGAAAAGAA 1312\n",
      "GGGAGGGGGGGGGGGGGGGGGGGGGGGGG 1315\n",
      "TAAAAAAAAAAAAAAAAAAAAAAAAAAAA 1317\n",
      "TAATTTTTTTTTTTTTTTTTTTTTTTTTT 1326\n",
      "AAAAAAAAAGAAAAAAAAAAAAAAAAAAA 1335\n",
      "AAAAAACAAAAGAAAAAAAAAAAAAAAAA 1341\n",
      "AAAAAAAAAATAAAAAAAAAAAAAAAAAA 1344\n",
      "GGGGGGGGGGGGGGGGGGGGGAGGGGGGG 1345\n",
      "GAAAAAAAAAAAAAAAAAAAAAAAAAAAA 1347\n",
      "TGGGGGGGGGGGGGGGGGGGGGGGGGGGG 1348\n",
      "GCGGGGGGGGGGGGGGGGGGGGGGGGGGG 1352\n",
      "TTTCCCCCCCCCCCCCCCCCCCTTTTTTT 1356\n",
      "GGGGGGGGGGGGGGGGGGGAGGGGGGGGG 1363\n",
      "TTTTTTCTTTTTTTTTTTTTTTTTTTTTT 1365\n",
      "TTTTCTCCTTTTTTTTTTTTTTTTTTTTT 1371\n",
      "TTTTTTTTTTGTTTTTTTTTTTTTTTTTT 1381\n",
      "AAAAAAAAAAAATAAAAAAAAAAAAAAAA 1383\n",
      "GGGGGGGGGGGGGGCCCCGGGGGGGGGGG 1384\n",
      "GGGGGGGGGGGGGGGCCCGGGGGGGGGGG 1385\n",
      "CCCCCCCCCCCCCCCGGGCCCCCCCCCCC 1387\n",
      "TTTTTTTTTTTTTTTTTTTCTTTTTTTTT 1392\n",
      "GGGGGGGGGGGGGGGGGGGAGGGGGGGGG 1393\n",
      "GGGGGGGGGGGGGGGGGGAGGGGGGGGGG 1401\n",
      "TTTTTTTTTCTTTTTTTTTTTTTTTTTTT 1413\n",
      "GGGGGGGGGGGGGGGTTTGGGGGGGGGGG 1419\n",
      "TTTTTTTTTTTTTTTCCCTTTTTTTTTTT 1440\n",
      "GGGGGGGGGGGAGGGGGGGGGGGGGGGGG 1452\n",
      "TTTTGGGGGGGGGGGGGGTTTTTTTTTTT 1466\n",
      "TTTTTTTTTTTCTTTTTTTTTTTTTTTTT 1479\n",
      "TGGGGGGGGGGGAGGGGGGGGGGGGGAGG 1487\n",
      "CCCTCCCCCCCCCCCCCCCCCCCCCCCCC 1497\n"
     ]
    }
   ],
   "source": [
    "from collections import Counter\n",
    "\n",
    "species = read_contigs('9927_alignment.fasta')\n",
    "informative_columns = {}\n",
    "consensus_sequence = []\n",
    "for col in range(len(species[0].seq)):\n",
    "    letters = []\n",
    "    for entry in species:\n",
    "        letters.append(entry.seq[col])\n",
    "    column_seq = ''.join(letters)\n",
    "    consensusing = Counter(column_seq)\n",
    "    consensus_sequence.append(consensusing.most_common()[0][0])\n",
    "    if column_seq != letters[0] * len(species) and col > 200 and col < 1500:\n",
    "        informative_columns[col] = column_seq\n",
    "        print(column_seq, col+1)\n",
    "species.append(Contig('Consensus', ''.join(consensus_sequence)))"
   ]
  },
  {
   "cell_type": "markdown",
   "metadata": {},
   "source": [
    "* Generate a fasta with informative columns\n",
    "* Majority vote consensus sequence, but it includes gaps\n",
    "* transpose?\n",
    "* CSV file write"
   ]
  },
  {
   "cell_type": "code",
   "execution_count": 49,
   "metadata": {
    "collapsed": false
   },
   "outputs": [],
   "source": [
    "with open('9927_informative_positions.csv', 'w') as csv_out:\n",
    "    csv_out.write('Positions,' + ','.join([str(x+1) for x in sorted(informative_columns.keys())]))\n",
    "    csv_out.write('\\n')\n",
    "    for entry in species:\n",
    "        csv_out.write(entry.name[:6] + \",\")\n",
    "        for col in range(len(species[0].seq)):\n",
    "            if col in informative_columns:\n",
    "                csv_out.write(entry.seq[col] + \",\")\n",
    "        csv_out.write('\\n')\n",
    "            "
   ]
  },
  {
   "cell_type": "code",
   "execution_count": 46,
   "metadata": {
    "collapsed": false
   },
   "outputs": [
    {
     "data": {
      "text/plain": [
       "'A'"
      ]
     },
     "execution_count": 46,
     "metadata": {},
     "output_type": "execute_result"
    }
   ],
   "source": []
  },
  {
   "cell_type": "code",
   "execution_count": null,
   "metadata": {
    "collapsed": true
   },
   "outputs": [],
   "source": []
  },
  {
   "cell_type": "code",
   "execution_count": null,
   "metadata": {
    "collapsed": true
   },
   "outputs": [],
   "source": []
  },
  {
   "cell_type": "code",
   "execution_count": 11,
   "metadata": {
    "collapsed": true
   },
   "outputs": [],
   "source": [
    "base_command = \"java -cp CONTEXT-.jar uk.ac.qmul.sbcs.evolution.convergence.runners.BasicAlignmentStats \"\n",
    "data_directory = './Data/'"
   ]
  },
  {
   "cell_type": "code",
   "execution_count": 12,
   "metadata": {
    "collapsed": false
   },
   "outputs": [
    {
     "name": "stdout",
     "output_type": "stream",
     "text": [
      "java -cp CONTEXT-.jar uk.ac.qmul.sbcs.evolution.convergence.runners.BasicAlignmentStats ./Data\\OG100_full_length_guidance_results_full_length_MUSCLE.MSA.MUSCLE.Without_low_SP_Col.With_Names.fasta\n",
      "java -cp CONTEXT-.jar uk.ac.qmul.sbcs.evolution.convergence.runners.BasicAlignmentStats ./Data\\OG133_full_length_guidance_results_full_length_MUSCLE.MSA.MUSCLE.Without_low_SP_Col.With_Names.fasta\n",
      "java -cp CONTEXT-.jar uk.ac.qmul.sbcs.evolution.convergence.runners.BasicAlignmentStats ./Data\\OG149_full_length_guidance_results_full_length_MUSCLE.MSA.MUSCLE.Without_low_SP_Col.With_Names.fasta\n",
      "java -cp CONTEXT-.jar uk.ac.qmul.sbcs.evolution.convergence.runners.BasicAlignmentStats ./Data\\OG237_full_length_guidance_results_full_length_MUSCLE.MSA.MUSCLE.Without_low_SP_Col.With_Names.fasta\n",
      "java -cp CONTEXT-.jar uk.ac.qmul.sbcs.evolution.convergence.runners.BasicAlignmentStats ./Data\\OG267_full_length_guidance_results_full_length_MUSCLE.MSA.MUSCLE.Without_low_SP_Col.With_Names.fasta\n",
      "java -cp CONTEXT-.jar uk.ac.qmul.sbcs.evolution.convergence.runners.BasicAlignmentStats ./Data\\OG293_full_length_guidance_results_full_length_MUSCLE.MSA.MUSCLE.Without_low_SP_Col.With_Names.fasta\n",
      "java -cp CONTEXT-.jar uk.ac.qmul.sbcs.evolution.convergence.runners.BasicAlignmentStats ./Data\\OG436_full_length_guidance_results_full_length_MUSCLE.MSA.MUSCLE.Without_low_SP_Col.With_Names.fasta\n",
      "java -cp CONTEXT-.jar uk.ac.qmul.sbcs.evolution.convergence.runners.BasicAlignmentStats ./Data\\OG439_full_length_guidance_results_full_length_MUSCLE.MSA.MUSCLE.Without_low_SP_Col.With_Names.fasta\n",
      "java -cp CONTEXT-.jar uk.ac.qmul.sbcs.evolution.convergence.runners.BasicAlignmentStats ./Data\\OG495_full_length_guidance_results_full_length_MUSCLE.MSA.MUSCLE.Without_low_SP_Col.With_Names.fasta\n",
      "java -cp CONTEXT-.jar uk.ac.qmul.sbcs.evolution.convergence.runners.BasicAlignmentStats ./Data\\OG555_full_length_guidance_results_full_length_MUSCLE.MSA.MUSCLE.Without_low_SP_Col.With_Names.fasta\n",
      "java -cp CONTEXT-.jar uk.ac.qmul.sbcs.evolution.convergence.runners.BasicAlignmentStats ./Data\\OG571_full_length_guidance_results_full_length_MUSCLE.MSA.MUSCLE.Without_low_SP_Col.With_Names.fasta\n",
      "java -cp CONTEXT-.jar uk.ac.qmul.sbcs.evolution.convergence.runners.BasicAlignmentStats ./Data\\OG70_full_length_guidance_results_full_length_MUSCLE.MSA.MUSCLE.Without_low_SP_Col.With_Names.fasta\n"
     ]
    }
   ],
   "source": [
    "from glob import glob\n",
    "\n",
    "for filename in glob(data_directory + '*'):\n",
    "    print(base_command + filename)"
   ]
  },
  {
   "cell_type": "markdown",
   "metadata": {},
   "source": [
    "trans = {'AGC': 'Y', 'TTC': 'A'}\n",
    "for codon in ['']"
   ]
  },
  {
   "cell_type": "code",
   "execution_count": null,
   "metadata": {
    "collapsed": true
   },
   "outputs": [],
   "source": []
  },
  {
   "cell_type": "markdown",
   "metadata": {},
   "source": [
    "* Iterate over all the sequences at the same time\n",
    "* for each position, how many species can you differentiate\n",
    "* keep of list of species\n",
    "* "
   ]
  },
  {
   "cell_type": "code",
   "execution_count": 1,
   "metadata": {
    "collapsed": false
   },
   "outputs": [
    {
     "name": "stdout",
     "output_type": "stream",
     "text": [
      "FRAX21_FRAEX388Â  241 CAGTAGTGTGGATTGGAAGGCAGAGTTTCTAGGGGAGATAGACCCATATGGATATTTGCC,c 398,c 446,indel aag 453,a 445,t 603,t 682,c 743,c 868,,,,,,,\n",
      "\n",
      "FRAX19_FRAEX388Â  241 CAGTAGTGTGGATTGGAAGGCAGAGTTTCTAGGGGAGATAGACCCATATGGATATTTGCC,t 350,t 443,t 463,c 502,c 521,t 542,g 590,a 611,g 648,a 734,c 743,a 758,a 920,,\n",
      "\n",
      "FRAX20_FRAEX388Â  241 CAGTAGTGTGGATTGGAAGGCAGAGTTTCTAGGGGAGATAGACCCATATGGATATTTGCC,t 350,t 443,t 463,c 502,c 521,t 525,g 558,g 590,a 611,g 648,a 732,a 734,c 743,a 758,a 920\n",
      "\n",
      "FRAX31_FRAEX388Â  241 CAGTAGTGTGGATTGGAAGGCAGAGTTTCTAGGGGAGATGGACCCATATGGATATTTGCC 1,g 281,a 486,a 518,c 524,c 527,t 589,c 728,c 743,a 773,c 809,a 940,t 945,,,\n",
      "\n",
      "FRAX28_FRAEX388Â  241 CAGTAGTGTGGATTGGAAGGCAGAGTTTCTAGGGGAGATAGACCCATATGGATATTTGCC,c 473,a 540,c 578,g 603,t 680,c 809,g 881,,,,,,,,\n",
      "\n",
      "FRAX12_FRAEX388Â  241 CAGTAGTGTGGATTGGAAGGCAGAGTTTCTAGGGGAGATAGACCCATATGGATATTTGCC,c 515,a 553,c 578,a 704,c 809,t 945,,,,,,,,,\n",
      "\n",
      "FRAX29_FRAEX388Â  241 CAGTAGTGTGGATTGGAAGGCAGAGTTTCTAGGGGAGATAGACCCATATGGATATTTGCC,c 512,c 578,,,,,,,,,,,,,\n",
      "\n",
      "FRAX32_FRAEX388Â  241 CAGTAGTGTGGATTGGAAGGCAGAGTTTCTAGGGGAGATAGACCCATATGGATATTTGCC,t 463,a 561,c 578,c 584,,,,,,,,,,,\n",
      "\n",
      "FRAX07_FRAEX388Â  241 CAGTAGTGTGGATTGGAAGGCAGAGTTTCTAGGGGAGATAGACCCATATGGATATTTGCC,c 578,,,,,,,,,,,,,,\n",
      "\n",
      "FRAX08_FRAEX388Â  241 CAGTAGTGTGGATTGGAAGGCAGAGTTTCTAGGGGAGATAGACCCATATGGATATTTGCC,a 330,c 578,,,,,,,,,,,,,\n",
      "\n",
      "FRAX30_FRAEX388Â  241 CAGTAGTGTGGATTGGAAGGCAGAGTTTCTAGGGGAGATAGACCCATATGGATATTTGCC,c 578,c 584,t 717,,,,,,,,,,,,\n",
      "\n",
      "FRAX25_FRAEX388Â  241 CAGTAGTGTGGATTGGAAGGCAGAGTTTCTAGGGGAGATAGACCCATATGGATATTTGCC,A 833,a 888,a 934,,,,,,,,,,,,\n",
      "\n",
      "FRAX06_FRAEX388Â  241 CAGTAGCGTGGATTGGAAGGCAGAGTTTCTAGGGGAGATAGACCCATATGGATATTTGCC,t 329,c 515,t 645,a 765,c 809,t 922,a 934,a 940,,,,,,,\n",
      "\n",
      "FRAEX38873_v2_0Â  241 CAGTAGTGTGGATTGGAAGGCAGAGTTTCTAGGGGAGATAGACCCATATGGACATTTGCC,c 294,t 329,c 809,t 846 indel gc 847,a 934,a 974,,,,,,,,,\n",
      "\n",
      "FRAX23_FRAEX388Â  241 CAGTAGTGTGGATTGGAAGGCAGAGTTTCTAGGGGAGATAGACCCATATGGATATTTGCC,g 312,c 550,g 687,a 934,,,,,,,,,,,\n",
      "\n",
      "FRAX15_FRAEX388Â  241 AAGTAGTGTGGATTGGAAGGCAGAGTTTCTAGGGGAGATAGACCCATATGGATATTTGCC,g 312,c 550,c 809,g 858,a 934,,,,,,,,,,\n",
      "\n",
      "FRAX01_FRAEX388Â  241 CAGTAGTGTGGATTGGAAGGCAGAGTTTCTAGGGGAGATAGACCCATATGGATATTTGCC,g 312,c 550,c 809,a 934,g 994,,,,,,,,,,\n",
      "\n",
      "FRAX16_FRAEX388Â  241 CAGTAGTGTGGATTGGAAGGCAGAGTTTCTAGGGGAGATAGACCCATATGGATATTTGCC,g 312,c 550,c 809,a 934,g 994,,,,,,,,,,\n",
      "\n",
      "FRAX27_FRAEX388Â  238 CAGTAGTGTGGATTGGAAGGCAGAGTTTCTAGGGGAGATAGATCCATATGGAAATTTGCC 2,t 284,A 294,t 350,t 351,a 374,a 546,g 600,a 611,g 648,t 693,g 884,,,,\n",
      "\n",
      "FRAX04_FRAEX388Â  229 ------------TTGGAAGGCAGAGTTTCTAGGGGAGATAGATCCATATGGAAATTTGCC 2,t 284,A 294,t 350,t 351,a 374,g 457,a 546,g 600,a 611,g 648,c 743,g 884,,,\n",
      "\n",
      "FRAX11_FRAEX388Â  238 CAGTAGTATGGATTGGAAGGCAGAGTTTCTAGGGGAGATAGATCCATATGGAAATTTGCC 2,t 284,A 294,t 350,t 351,a 374,a 546,g 600,a 611,g 648,c 743,,,,,\n",
      "\n",
      "FRAX33_FRAEX388Â  241 CAGTAGTGTGGATTGGAAGGCAGAGTTTCTAGGGGAGATAGAACCATATGGATATTTGCC 1,a 284,g 327,t 350,a 374,g 465,g 524,c 578,g 600,a 611,g 648,,,,,\n",
      "\n",
      "FRAX03_FRAEX388Â  241 CAGTAGTGTGGATTGGAAGGCAGAGTTTCTAGGGGAGATAGACCCATATGGATATTTGCC,t 350,a 374,c 538,g 600,a 611,g 648,c 743,a 794,a 839,t 863,c 1009,,,,\n",
      "\n",
      "FRAX13_FRAEX388Â  241 CAGTAGCGTGGATTGGAAGGCAGAGTTTCTAGGGGAGATAGACCCATATGGATATTTGCC ,g 342,t 350,a 374,g 488,t 551,g 600,a 611,g 648,c 743,a 794,a 839,,,,\n",
      "\n",
      "FRAX14_FRAEX388Â  241 CAGTAGTGTGGATTGGAAGGCAGAGTTTCTAGGGGAGATAGACCCATATGGATATTTGCC,t 350,a 374,g 488,t 551,g 600,c 603,a 611,g 648,c 680,c 743,a 794,a 839,c 983,,\n",
      "\n",
      "FRAX26_FRAEX388Â  241 CAGTAGTGTGGATTGGAAGGCAGAGTTTCTAGGGGAGATAGACCCATATGGATATTTGCC,t 350,a 373,a 374,g 488,g 600,a 611,g 648,c 680,c 743,a 794,a 839,,,,\n",
      "\n",
      "FRAX05_FRAEX388Â  241 CAGTAGTGTGGATTGGAAGGCAGAGTTTCTAGGGGAGATAGACCCATATGGATATTTGCC,t 350,a 374,c 538,g 600,a 611,g 648,c 711,c 743,a 794,a 839,,,,,\n",
      "\n",
      "FRAX09_FRAEX388Â  241 CAGTAGTGTGGATTGGAAGGCAGAGTTTCTAGGGGAGATAGACCCATATGGATATTTGCC,t 350,a 374,c 538,g 600,a 611,g 648,c 711,c 743,a 794,a 839,t 982,,,,\n",
      "\n",
      "FRAX10_FRAEX388Â  241 CAGTAGTGTGGATTGGAAGGCAGAGTTTCTAGGGGAGATAGACCCATATGGATATTTGCC,t 350,a 374,c 538,g 600,a 620,a 611,g 648,c 711,c 743,a 794,a 839,t 982,,,\n"
     ]
    }
   ],
   "source": [
    "for line in open('9927_differences_table.csv', 'r'):\n",
    "    print(line)"
   ]
  },
  {
   "cell_type": "markdown",
   "metadata": {},
   "source": [
    "## Terms Used\n",
    "* a c t g\n",
    "* indel"
   ]
  },
  {
   "cell_type": "code",
   "execution_count": 2,
   "metadata": {
    "collapsed": false
   },
   "outputs": [
    {
     "data": {
      "text/plain": [
       "'----------------------------------------------------------------------------------------------------------------------------------------------------------------------------------------------------------------------------------------------------------------------------------------------------------------------------------------------------------------------------------------------------------------------------------------------------------------------------------------------------------------------------------------------------------------------------------------------------------------------------------------------------------------------------------------------------------------------------------------------------------------------------------------------------------------------------------------------------------------------------------------------------------------------------------------------------------------------------------------------------------------------------------------'"
      ]
     },
     "execution_count": 2,
     "metadata": {},
     "output_type": "execute_result"
    }
   ],
   "source": [
    "consensus = '-' * 1000\n",
    "consensus"
   ]
  },
  {
   "cell_type": "code",
   "execution_count": 9,
   "metadata": {
    "collapsed": false
   },
   "outputs": [
    {
     "name": "stdout",
     "output_type": "stream",
     "text": [
      "['FRAX21_FRAEX388Â\\xa0 241 CAGTAGTGTGGATTGGAAGGCAGAGTTTCTAGGGGAGATAGACCCATATGGATATTTGCC', 'c 398', 'c 446', 'indel aag 453', 'a 445', 't 603', 't 682', 'c 743', 'c 868', '', '', '', '', '', '', '\\n']\n",
      "['FRAX19_FRAEX388Â\\xa0 241 CAGTAGTGTGGATTGGAAGGCAGAGTTTCTAGGGGAGATAGACCCATATGGATATTTGCC', 't 350', 't 443', 't 463', 'c 502', 'c 521', 't 542', 'g 590', 'a 611', 'g 648', 'a 734', 'c 743', 'a 758', 'a 920', '', '\\n']\n",
      "['FRAX20_FRAEX388Â\\xa0 241 CAGTAGTGTGGATTGGAAGGCAGAGTTTCTAGGGGAGATAGACCCATATGGATATTTGCC', 't 350', 't 443', 't 463', 'c 502', 'c 521', 't 525', 'g 558', 'g 590', 'a 611', 'g 648', 'a 732', 'a 734', 'c 743', 'a 758', 'a 920\\n']\n",
      "['FRAX31_FRAEX388Â\\xa0 241 CAGTAGTGTGGATTGGAAGGCAGAGTTTCTAGGGGAGATGGACCCATATGGATATTTGCC 1', 'g 281', 'a 486', 'a 518', 'c 524', 'c 527', 't 589', 'c 728', 'c 743', 'a 773', 'c 809', 'a 940', 't 945', '', '', '\\n']\n",
      "['FRAX28_FRAEX388Â\\xa0 241 CAGTAGTGTGGATTGGAAGGCAGAGTTTCTAGGGGAGATAGACCCATATGGATATTTGCC', 'c 473', 'a 540', 'c 578', 'g 603', 't 680', 'c 809', 'g 881', '', '', '', '', '', '', '', '\\n']\n",
      "['FRAX12_FRAEX388Â\\xa0 241 CAGTAGTGTGGATTGGAAGGCAGAGTTTCTAGGGGAGATAGACCCATATGGATATTTGCC', 'c 515', 'a 553', 'c 578', 'a 704', 'c 809', 't 945', '', '', '', '', '', '', '', '', '\\n']\n",
      "['FRAX29_FRAEX388Â\\xa0 241 CAGTAGTGTGGATTGGAAGGCAGAGTTTCTAGGGGAGATAGACCCATATGGATATTTGCC', 'c 512', 'c 578', '', '', '', '', '', '', '', '', '', '', '', '', '\\n']\n",
      "['FRAX32_FRAEX388Â\\xa0 241 CAGTAGTGTGGATTGGAAGGCAGAGTTTCTAGGGGAGATAGACCCATATGGATATTTGCC', 't 463', 'a 561', 'c 578', 'c 584', '', '', '', '', '', '', '', '', '', '', '\\n']\n",
      "['FRAX07_FRAEX388Â\\xa0 241 CAGTAGTGTGGATTGGAAGGCAGAGTTTCTAGGGGAGATAGACCCATATGGATATTTGCC', 'c 578', '', '', '', '', '', '', '', '', '', '', '', '', '', '\\n']\n",
      "['FRAX08_FRAEX388Â\\xa0 241 CAGTAGTGTGGATTGGAAGGCAGAGTTTCTAGGGGAGATAGACCCATATGGATATTTGCC', 'a 330', 'c 578', '', '', '', '', '', '', '', '', '', '', '', '', '\\n']\n",
      "['FRAX30_FRAEX388Â\\xa0 241 CAGTAGTGTGGATTGGAAGGCAGAGTTTCTAGGGGAGATAGACCCATATGGATATTTGCC', 'c 578', 'c 584', 't 717', '', '', '', '', '', '', '', '', '', '', '', '\\n']\n",
      "['FRAX25_FRAEX388Â\\xa0 241 CAGTAGTGTGGATTGGAAGGCAGAGTTTCTAGGGGAGATAGACCCATATGGATATTTGCC', 'A 833', 'a 888', 'a 934', '', '', '', '', '', '', '', '', '', '', '', '\\n']\n",
      "['FRAX06_FRAEX388Â\\xa0 241 CAGTAGCGTGGATTGGAAGGCAGAGTTTCTAGGGGAGATAGACCCATATGGATATTTGCC', 't 329', 'c 515', 't 645', 'a 765', 'c 809', 't 922', 'a 934', 'a 940', '', '', '', '', '', '', '\\n']\n",
      "['FRAX00_38873_v2_0Â\\xa0 241 CAGTAGTGTGGATTGGAAGGCAGAGTTTCTAGGGGAGATAGACCCATATGGACATTTGCC', 'c 294', 't 329', 'c 809', 't 846 indel gc 847', 'a 934', 'a 974', '', '', '', '', '', '', '', '', '\\n']\n",
      "['FRAX23_FRAEX388Â\\xa0 241 CAGTAGTGTGGATTGGAAGGCAGAGTTTCTAGGGGAGATAGACCCATATGGATATTTGCC', 'g 312', 'c 550', 'g 687', 'a 934', '', '', '', '', '', '', '', '', '', '', '\\n']\n",
      "['FRAX15_FRAEX388Â\\xa0 241 AAGTAGTGTGGATTGGAAGGCAGAGTTTCTAGGGGAGATAGACCCATATGGATATTTGCC', 'g 312', 'c 550', 'c 809', 'g 858', 'a 934', '', '', '', '', '', '', '', '', '', '\\n']\n",
      "['FRAX01_FRAEX388Â\\xa0 241 CAGTAGTGTGGATTGGAAGGCAGAGTTTCTAGGGGAGATAGACCCATATGGATATTTGCC', 'g 312', 'c 550', 'c 809', 'a 934', 'g 994', '', '', '', '', '', '', '', '', '', '\\n']\n",
      "['FRAX16_FRAEX388Â\\xa0 241 CAGTAGTGTGGATTGGAAGGCAGAGTTTCTAGGGGAGATAGACCCATATGGATATTTGCC', 'g 312', 'c 550', 'c 809', 'a 934', 'g 994', '', '', '', '', '', '', '', '', '', '\\n']\n",
      "['FRAX27_FRAEX388Â\\xa0 238 CAGTAGTGTGGATTGGAAGGCAGAGTTTCTAGGGGAGATAGATCCATATGGAAATTTGCC 2', 't 284', 'A 294', 't 350', 't 351', 'a 374', 'a 546', 'g 600', 'a 611', 'g 648', 't 693', 'g 884', '', '', '', '\\n']\n",
      "['FRAX04_FRAEX388Â\\xa0 229 ------------TTGGAAGGCAGAGTTTCTAGGGGAGATAGATCCATATGGAAATTTGCC 2', 't 284', 'A 294', 't 350', 't 351', 'a 374', 'g 457', 'a 546', 'g 600', 'a 611', 'g 648', 'c 743', 'g 884', '', '', '\\n']\n",
      "['FRAX11_FRAEX388Â\\xa0 238 CAGTAGTATGGATTGGAAGGCAGAGTTTCTAGGGGAGATAGATCCATATGGAAATTTGCC 2', 't 284', 'A 294', 't 350', 't 351', 'a 374', 'a 546', 'g 600', 'a 611', 'g 648', 'c 743', '', '', '', '', '\\n']\n",
      "['FRAX33_FRAEX388Â\\xa0 241 CAGTAGTGTGGATTGGAAGGCAGAGTTTCTAGGGGAGATAGAACCATATGGATATTTGCC 1', 'a 284', 'g 327', 't 350', 'a 374', 'g 465', 'g 524', 'c 578', 'g 600', 'a 611', 'g 648', '', '', '', '', '\\n']\n",
      "['FRAX03_FRAEX388Â\\xa0 241 CAGTAGTGTGGATTGGAAGGCAGAGTTTCTAGGGGAGATAGACCCATATGGATATTTGCC', 't 350', 'a 374', 'c 538', 'g 600', 'a 611', 'g 648', 'c 743', 'a 794', 'a 839', 't 863', 'c 1009', '', '', '', '\\n']\n",
      "['FRAX13_FRAEX388Â\\xa0 241 CAGTAGCGTGGATTGGAAGGCAGAGTTTCTAGGGGAGATAGACCCATATGGATATTTGCC ', 'g 342', 't 350', 'a 374', 'g 488', 't 551', 'g 600', 'a 611', 'g 648', 'c 743', 'a 794', 'a 839', '', '', '', '\\n']\n",
      "['FRAX14_FRAEX388Â\\xa0 241 CAGTAGTGTGGATTGGAAGGCAGAGTTTCTAGGGGAGATAGACCCATATGGATATTTGCC', 't 350', 'a 374', 'g 488', 't 551', 'g 600', 'c 603', 'a 611', 'g 648', 'c 680', 'c 743', 'a 794', 'a 839', 'c 983', '', '\\n']\n",
      "['FRAX26_FRAEX388Â\\xa0 241 CAGTAGTGTGGATTGGAAGGCAGAGTTTCTAGGGGAGATAGACCCATATGGATATTTGCC', 't 350', 'a 373', 'a 374', 'g 488', 'g 600', 'a 611', 'g 648', 'c 680', 'c 743', 'a 794', 'a 839', '', '', '', '\\n']\n",
      "['FRAX05_FRAEX388Â\\xa0 241 CAGTAGTGTGGATTGGAAGGCAGAGTTTCTAGGGGAGATAGACCCATATGGATATTTGCC', 't 350', 'a 374', 'c 538', 'g 600', 'a 611', 'g 648', 'c 711', 'c 743', 'a 794', 'a 839', '', '', '', '', '\\n']\n",
      "['FRAX09_FRAEX388Â\\xa0 241 CAGTAGTGTGGATTGGAAGGCAGAGTTTCTAGGGGAGATAGACCCATATGGATATTTGCC', 't 350', 'a 374', 'c 538', 'g 600', 'a 611', 'g 648', 'c 711', 'c 743', 'a 794', 'a 839', 't 982', '', '', '', '\\n']\n",
      "['FRAX10_FRAEX388Â\\xa0 241 CAGTAGTGTGGATTGGAAGGCAGAGTTTCTAGGGGAGATAGACCCATATGGATATTTGCC', 't 350', 'a 374', 'c 538', 'g 600', 'a 620', 'a 611', 'g 648', 'c 711', 'c 743', 'a 794', 'a 839', 't 982', '', '', '']\n"
     ]
    }
   ],
   "source": [
    "species_indicators = {}\n",
    "unique_columns = set()\n",
    "for line in open('9927_differences_table.csv', 'r'):\n",
    "#     print(line)\n",
    "    cells = line.split(',')\n",
    "    species = cells[0][:6]\n",
    "    print(cells)\n",
    "    for cell in cells[1:]:\n",
    "        if cell and cell != '\\n' and 'indel' not in cell:\n",
    "            unique_columns.add(int(cell[2:]))\n"
   ]
  },
  {
   "cell_type": "code",
   "execution_count": 10,
   "metadata": {
    "collapsed": true
   },
   "outputs": [
    {
     "data": {
      "text/plain": [
       "{281,\n",
       " 284,\n",
       " 294,\n",
       " 312,\n",
       " 327,\n",
       " 329,\n",
       " 330,\n",
       " 342,\n",
       " 350,\n",
       " 351,\n",
       " 373,\n",
       " 374,\n",
       " 398,\n",
       " 443,\n",
       " 445,\n",
       " 446,\n",
       " 457,\n",
       " 463,\n",
       " 465,\n",
       " 473,\n",
       " 486,\n",
       " 488,\n",
       " 502,\n",
       " 512,\n",
       " 515,\n",
       " 518,\n",
       " 521,\n",
       " 524,\n",
       " 525,\n",
       " 527,\n",
       " 538,\n",
       " 540,\n",
       " 542,\n",
       " 546,\n",
       " 550,\n",
       " 551,\n",
       " 553,\n",
       " 558,\n",
       " 561,\n",
       " 578,\n",
       " 584,\n",
       " 589,\n",
       " 590,\n",
       " 600,\n",
       " 603,\n",
       " 611,\n",
       " 620,\n",
       " 645,\n",
       " 648,\n",
       " 680,\n",
       " 682,\n",
       " 687,\n",
       " 693,\n",
       " 704,\n",
       " 711,\n",
       " 717,\n",
       " 728,\n",
       " 732,\n",
       " 734,\n",
       " 743,\n",
       " 758,\n",
       " 765,\n",
       " 773,\n",
       " 794,\n",
       " 809,\n",
       " 833,\n",
       " 839,\n",
       " 858,\n",
       " 863,\n",
       " 868,\n",
       " 881,\n",
       " 884,\n",
       " 888,\n",
       " 920,\n",
       " 922,\n",
       " 934,\n",
       " 940,\n",
       " 945,\n",
       " 974,\n",
       " 982,\n",
       " 983,\n",
       " 994,\n",
       " 1009}"
      ]
     },
     "execution_count": 10,
     "metadata": {},
     "output_type": "execute_result"
    }
   ],
   "source": [
    "unique_columns"
   ]
  },
  {
   "cell_type": "code",
   "execution_count": 11,
   "metadata": {
    "collapsed": false
   },
   "outputs": [
    {
     "data": {
      "text/plain": [
       "83"
      ]
     },
     "execution_count": 11,
     "metadata": {},
     "output_type": "execute_result"
    }
   ],
   "source": [
    "len(unique_columns)"
   ]
  },
  {
   "cell_type": "code",
   "execution_count": 4,
   "metadata": {
    "collapsed": false
   },
   "outputs": [
    {
     "ename": "TypeError",
     "evalue": "'str' object does not support item assignment",
     "output_type": "error",
     "traceback": [
      "\u001b[0;31m---------------------------------------------------------------------------\u001b[0m",
      "\u001b[0;31mTypeError\u001b[0m                                 Traceback (most recent call last)",
      "\u001b[0;32m<ipython-input-4-0776a3238222>\u001b[0m in \u001b[0;36m<module>\u001b[0;34m()\u001b[0m\n\u001b[1;32m      1\u001b[0m \u001b[0ma\u001b[0m \u001b[1;33m=\u001b[0m \u001b[0mconsensus\u001b[0m\u001b[1;33m\u001b[0m\u001b[0m\n\u001b[0;32m----> 2\u001b[0;31m \u001b[0ma\u001b[0m\u001b[1;33m[\u001b[0m\u001b[1;36m12\u001b[0m\u001b[1;33m]\u001b[0m \u001b[1;33m=\u001b[0m \u001b[1;34m'X'\u001b[0m\u001b[1;33m\u001b[0m\u001b[0m\n\u001b[0m\u001b[1;32m      3\u001b[0m \u001b[0ma\u001b[0m\u001b[1;33m\u001b[0m\u001b[0m\n",
      "\u001b[0;31mTypeError\u001b[0m: 'str' object does not support item assignment"
     ]
    }
   ],
   "source": [
    "a = consensus\n",
    "a[12] = 'X'\n",
    "a"
   ]
  }
 ],
 "metadata": {
  "kernelspec": {
   "display_name": "Python 3",
   "language": "python",
   "name": "python3"
  },
  "language_info": {
   "codemirror_mode": {
    "name": "ipython",
    "version": 3
   },
   "file_extension": ".py",
   "mimetype": "text/x-python",
   "name": "python",
   "nbconvert_exporter": "python",
   "pygments_lexer": "ipython3",
   "version": "3.4.3"
  }
 },
 "nbformat": 4,
 "nbformat_minor": 1
}
