{
 "cells": [
  {
   "cell_type": "code",
   "execution_count": 1,
   "metadata": {},
   "outputs": [],
   "source": [
    "from DNASkittleUtils.Contigs import read_contigs, Contig, write_contigs_to_file "
   ]
  },
  {
   "cell_type": "code",
   "execution_count": 2,
   "metadata": {},
   "outputs": [],
   "source": [
    "contigs = read_contigs(\"D:\\Genomes\\Ash BATG-0.5-CLCbioSSPACE\\BATG-0.5-CLCbioSSPACE.fa\")"
   ]
  },
  {
   "cell_type": "markdown",
   "metadata": {},
   "source": [
    "Using the two contig names you sent me it's simplest to do this:"
   ]
  },
  {
   "cell_type": "code",
   "execution_count": 5,
   "metadata": {},
   "outputs": [
    {
     "data": {
      "text/plain": [
       "['Contig1131', 'Contig3182', 'Contig39106', 'Contig110', 'Contig5958']"
      ]
     },
     "execution_count": 5,
     "metadata": {},
     "output_type": "execute_result"
    }
   ],
   "source": [
    "desired_contigs = ['Contig' + str(x) for x in [1131, 3182, 39106, 110, 5958]]\n",
    "desired_contigs"
   ]
  },
  {
   "cell_type": "markdown",
   "metadata": {},
   "source": [
    "If you have a genuinely big file then I would do the following:"
   ]
  },
  {
   "cell_type": "raw",
   "metadata": {},
   "source": [
    "desired_contigs = open('Data/BATG-selects.txt', 'r').read().splitlines()\n",
    "unique_desired = set(desired_contigs)\n",
    "len(unique_desired), desired_contigs[:10]"
   ]
  },
  {
   "cell_type": "code",
   "execution_count": 7,
   "metadata": {},
   "outputs": [
    {
     "data": {
      "text/plain": [
       "5"
      ]
     },
     "execution_count": 7,
     "metadata": {},
     "output_type": "execute_result"
    }
   ],
   "source": [
    "grab = [c for c in contigs if c.name in desired_contigs]\n",
    "len(grab)"
   ]
  },
  {
   "cell_type": "markdown",
   "metadata": {},
   "source": [
    "Ya! There's two contigs."
   ]
  },
  {
   "cell_type": "raw",
   "metadata": {},
   "source": [
    "assert len(grab) == len(unique_desired)"
   ]
  },
  {
   "cell_type": "code",
   "execution_count": 8,
   "metadata": {},
   "outputs": [
    {
     "name": "stdout",
     "output_type": "stream",
     "text": [
      "D:\\josiah\\Documents\\Research\\Barcoding-Fraxinus\n",
      "Done writing  5 contigs and 682,487bp\n"
     ]
    }
   ],
   "source": [
    "import os\n",
    "print(os.getcwd())\n",
    "write_contigs_to_file('data2/sequences_desired.fa', grab)"
   ]
  },
  {
   "cell_type": "code",
   "execution_count": 9,
   "metadata": {},
   "outputs": [
    {
     "data": {
      "text/plain": [
       "['Contig110', 'Contig1131', 'Contig3182', 'Contig5958', 'Contig39106']"
      ]
     },
     "execution_count": 9,
     "metadata": {},
     "output_type": "execute_result"
    }
   ],
   "source": [
    "[c.name for c in grab[:100]]"
   ]
  },
  {
   "cell_type": "code",
   "execution_count": 1,
   "metadata": {},
   "outputs": [
    {
     "data": {
      "text/plain": [
       "'D:\\\\josiah\\\\Documents\\\\Research\\\\Barcoding-Fraxinus'"
      ]
     },
     "execution_count": 2,
     "metadata": {},
     "output_type": "execute_result"
    }
   ],
   "source": [
    "import os\n",
    "os.path.realpath('')"
   ]
  },
  {
   "cell_type": "code",
   "execution_count": null,
   "metadata": {},
   "outputs": [],
   "source": []
  }
 ],
 "metadata": {
  "kernelspec": {
   "display_name": "Python 3",
   "language": "python",
   "name": "python3"
  },
  "language_info": {
   "codemirror_mode": {
    "name": "ipython",
    "version": 3
   },
   "file_extension": ".py",
   "mimetype": "text/x-python",
   "name": "python",
   "nbconvert_exporter": "python",
   "pygments_lexer": "ipython3",
   "version": "3.6.1"
  }
 },
 "nbformat": 4,
 "nbformat_minor": 1
}
