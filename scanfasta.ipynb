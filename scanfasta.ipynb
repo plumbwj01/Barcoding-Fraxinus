{
 "cells": [
  {
   "cell_type": "code",
   "execution_count": 1,
   "metadata": {},
   "outputs": [],
   "source": [
    "from DNASkittleUtils.Contigs import read_contigs, Contig, write_contigs_to_file "
   ]
  },
  {
   "cell_type": "code",
   "execution_count": 2,
   "metadata": {},
   "outputs": [],
   "source": [
    "\n",
    "contigs = read_contigs(\"D:\\Genomes\\Ash BATG-0.5-CLCbioSSPACE\\BATG-0.5-CLCbioSSPACE.fa\")"
   ]
  },
  {
   "cell_type": "markdown",
   "metadata": {},
   "source": [
    "Using the two contig names you sent me it's simplest to do this:"
   ]
  },
  {
   "cell_type": "code",
   "execution_count": 3,
   "metadata": {},
   "outputs": [],
   "source": [
    "desired_contigs = 'Contig1 Contig25'.split()"
   ]
  },
  {
   "cell_type": "markdown",
   "metadata": {},
   "source": [
    "If you have a genuinely big file then I would do the following:"
   ]
  },
  {
   "cell_type": "code",
   "execution_count": 15,
   "metadata": {},
   "outputs": [
    {
     "data": {
      "text/plain": [
       "(2, ['Contig1', 'Contig25'])"
      ]
     },
     "execution_count": 15,
     "metadata": {},
     "output_type": "execute_result"
    }
   ],
   "source": [
    "desired_contigs = open('data2/desired_sequences.txt', 'r').read().splitlines()\n",
    "len(desired_contigs), desired_contigs[:10]"
   ]
  },
  {
   "cell_type": "code",
   "execution_count": 16,
   "metadata": {},
   "outputs": [
    {
     "data": {
      "text/plain": [
       "2"
      ]
     },
     "execution_count": 16,
     "metadata": {},
     "output_type": "execute_result"
    }
   ],
   "source": [
    "grab = [c for c in contigs if c.name in desired_contigs]\n",
    "len(grab)"
   ]
  },
  {
   "cell_type": "markdown",
   "metadata": {},
   "source": [
    "Ya! There's two contigs."
   ]
  },
  {
   "cell_type": "code",
   "execution_count": 9,
   "metadata": {},
   "outputs": [],
   "source": [
    "assert len(grab) == len(desired_contigs)"
   ]
  },
  {
   "cell_type": "code",
   "execution_count": 7,
   "metadata": {},
   "outputs": [
    {
     "name": "stdout",
     "output_type": "stream",
     "text": [
      "D:\\josiah\\Documents\\Research\\Barcoding-Fraxinus\n",
      "Done writing  2 contigs and 1,387,942bp\n"
     ]
    }
   ],
   "source": [
    "import os\n",
    "print(os.getcwd())\n",
    "write_contigs_to_file('data2/sequences_desired.fa', grab)"
   ]
  },
  {
   "cell_type": "code",
   "execution_count": 8,
   "metadata": {},
   "outputs": [
    {
     "data": {
      "text/plain": [
       "['Contig0',\n",
       " 'Contig1',\n",
       " 'Contig2',\n",
       " 'Contig3',\n",
       " 'Contig4',\n",
       " 'Contig5',\n",
       " 'Contig6',\n",
       " 'Contig7',\n",
       " 'Contig8',\n",
       " 'Contig9',\n",
       " 'Contig10',\n",
       " 'Contig11',\n",
       " 'Contig12',\n",
       " 'Contig13',\n",
       " 'Contig14',\n",
       " 'Contig15',\n",
       " 'Contig16',\n",
       " 'Contig17',\n",
       " 'Contig18',\n",
       " 'Contig19',\n",
       " 'Contig20',\n",
       " 'Contig21',\n",
       " 'Contig22',\n",
       " 'Contig23',\n",
       " 'Contig24',\n",
       " 'Contig25',\n",
       " 'Contig26',\n",
       " 'Contig27',\n",
       " 'Contig28',\n",
       " 'Contig29',\n",
       " 'Contig30',\n",
       " 'Contig31',\n",
       " 'Contig32',\n",
       " 'Contig33',\n",
       " 'Contig34',\n",
       " 'Contig35',\n",
       " 'Contig36',\n",
       " 'Contig37',\n",
       " 'Contig38',\n",
       " 'Contig39',\n",
       " 'Contig40',\n",
       " 'Contig41',\n",
       " 'Contig42',\n",
       " 'Contig43',\n",
       " 'Contig44',\n",
       " 'Contig45',\n",
       " 'Contig46',\n",
       " 'Contig47',\n",
       " 'Contig48',\n",
       " 'Contig49',\n",
       " 'Contig50',\n",
       " 'Contig51',\n",
       " 'Contig52',\n",
       " 'Contig53',\n",
       " 'Contig54',\n",
       " 'Contig55',\n",
       " 'Contig56',\n",
       " 'Contig57',\n",
       " 'Contig58',\n",
       " 'Contig59',\n",
       " 'Contig60',\n",
       " 'Contig61',\n",
       " 'Contig62',\n",
       " 'Contig63',\n",
       " 'Contig64',\n",
       " 'Contig65',\n",
       " 'Contig66',\n",
       " 'Contig67',\n",
       " 'Contig68',\n",
       " 'Contig69',\n",
       " 'Contig70',\n",
       " 'Contig71',\n",
       " 'Contig72',\n",
       " 'Contig73',\n",
       " 'Contig74',\n",
       " 'Contig75',\n",
       " 'Contig76',\n",
       " 'Contig77',\n",
       " 'Contig78',\n",
       " 'Contig79',\n",
       " 'Contig80',\n",
       " 'Contig81',\n",
       " 'Contig82',\n",
       " 'Contig83',\n",
       " 'Contig84',\n",
       " 'Contig85',\n",
       " 'Contig86',\n",
       " 'Contig87',\n",
       " 'Contig88',\n",
       " 'Contig89',\n",
       " 'Contig90',\n",
       " 'Contig91',\n",
       " 'Contig92',\n",
       " 'Contig93',\n",
       " 'Contig94',\n",
       " 'Contig95',\n",
       " 'Contig96',\n",
       " 'Contig97',\n",
       " 'Contig98',\n",
       " 'Contig99']"
      ]
     },
     "execution_count": 8,
     "metadata": {},
     "output_type": "execute_result"
    }
   ],
   "source": [
    "[c.name for c in contigs[:100]]"
   ]
  },
  {
   "cell_type": "code",
   "execution_count": null,
   "metadata": {},
   "outputs": [],
   "source": []
  },
  {
   "cell_type": "code",
   "execution_count": null,
   "metadata": {},
   "outputs": [],
   "source": []
  }
 ],
 "metadata": {
  "kernelspec": {
   "display_name": "Python 3",
   "language": "python",
   "name": "python3"
  },
  "language_info": {
   "codemirror_mode": {
    "name": "ipython",
    "version": 3
   },
   "file_extension": ".py",
   "mimetype": "text/x-python",
   "name": "python",
   "nbconvert_exporter": "python",
   "pygments_lexer": "ipython3",
   "version": "3.6.1"
  }
 },
 "nbformat": 4,
 "nbformat_minor": 1
}
